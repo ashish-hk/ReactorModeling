{
 "cells": [
  {
   "cell_type": "markdown",
   "id": "0a79bdbc",
   "metadata": {},
   "source": [
    "# CRM"
   ]
  },
  {
   "cell_type": "markdown",
   "id": "f748326c",
   "metadata": {},
   "source": [
    "##### Creating a named tuple of the elements H,C,O and N as the symbol and the corresponding atomic weight value."
   ]
  },
  {
   "cell_type": "code",
   "execution_count": 2,
   "id": "6eee9608",
   "metadata": {},
   "outputs": [
    {
     "data": {
      "text/plain": [
       "(H = 0.001, C = 0.012, O = 0.016, N = 0.014)"
      ]
     },
     "execution_count": 2,
     "metadata": {},
     "output_type": "execute_result"
    }
   ],
   "source": [
    "named_tuple = (H=1e-3,C=12e-3,O= 16e-3,N=14e-3)"
   ]
  },
  {
   "cell_type": "markdown",
   "id": "9b24514b",
   "metadata": {},
   "source": [
    "##### Creating a dictionary(d1) with the following species as keys; CH4, CO, CO2, H2, H2O and O2. The value should be another dictionary which is a key value pair of the elements and the number of elements that forms the species."
   ]
  },
  {
   "cell_type": "code",
   "execution_count": 3,
   "id": "8e53cb0c",
   "metadata": {},
   "outputs": [
    {
     "data": {
      "text/plain": [
       "Dict{String, Dict{String, Int64}} with 6 entries:\n",
       "  \"O2\"  => Dict(\"O\"=>2)\n",
       "  \"CO\"  => Dict(\"C\"=>1, \"O\"=>1)\n",
       "  \"CH4\" => Dict(\"C\"=>1, \"H\"=>4)\n",
       "  \"H2O\" => Dict(\"H\"=>2, \"O\"=>1)\n",
       "  \"CO2\" => Dict(\"C\"=>1, \"O\"=>2)\n",
       "  \"H2\"  => Dict(\"H\"=>2)"
      ]
     },
     "execution_count": 3,
     "metadata": {},
     "output_type": "execute_result"
    }
   ],
   "source": [
    "d1 = Dict(\"CH4\"=>Dict(\"H\"=>4,\"C\"=>1),\n",
    "    \"CO\"=>Dict(\"C\"=>1,\"O\"=>1),\n",
    "    \"CO2\"=>Dict(\"C\"=>1,\"O\"=>2),\n",
    "    \"H2\"=>Dict(\"H\"=>2),\n",
    "    \"H2O\"=>Dict(\"H\"=>2,\"O\"=>1),\n",
    "    \"O2\"=>Dict(\"O\"=>2))"
   ]
  },
  {
   "cell_type": "markdown",
   "id": "a72461cb",
   "metadata": {},
   "source": [
    "##### Using the above dictionary and the named tuple writing a program that creates a dictionary of species name as key and their molecular weight as value."
   ]
  },
  {
   "cell_type": "code",
   "execution_count": 4,
   "id": "3b9c3708",
   "metadata": {},
   "outputs": [
    {
     "data": {
      "text/plain": [
       "Molwt_cal (generic function with 1 method)"
      ]
     },
     "execution_count": 4,
     "metadata": {},
     "output_type": "execute_result"
    }
   ],
   "source": [
    "function Molwt_cal(named_tuple,dict)\n",
    "    dict_new= Dict()\n",
    "    mol_wt = 0\n",
    "    for key in keys(dict)\n",
    "        for ele in keys(dict[key])\n",
    "            mol_wt +=dict[key][ele]*named_tuple[Symbol(ele)]\n",
    "        end\n",
    "        dict_new[key] = mol_wt\n",
    "        mol_wt=0\n",
    "    end\n",
    "    return dict_new\n",
    "end"
   ]
  },
  {
   "cell_type": "code",
   "execution_count": null,
   "id": "f32671f2",
   "metadata": {},
   "outputs": [],
   "source": []
  },
  {
   "cell_type": "markdown",
   "id": "f92e81b9",
   "metadata": {},
   "source": [
    "##### Calling the above function for the given data"
   ]
  },
  {
   "cell_type": "code",
   "execution_count": 5,
   "id": "45d2806f",
   "metadata": {},
   "outputs": [
    {
     "data": {
      "text/plain": [
       "Dict{Any, Any} with 6 entries:\n",
       "  \"H2\"  => 0.002\n",
       "  \"CO\"  => 0.028\n",
       "  \"CH4\" => 0.016\n",
       "  \"H2O\" => 0.018\n",
       "  \"CO2\" => 0.044\n",
       "  \"O2\"  => 0.032"
      ]
     },
     "execution_count": 5,
     "metadata": {},
     "output_type": "execute_result"
    }
   ],
   "source": [
    "Molwt_cal(named_tuple,d1)"
   ]
  },
  {
   "cell_type": "code",
   "execution_count": null,
   "id": "8b2a0b4f",
   "metadata": {},
   "outputs": [],
   "source": []
  },
  {
   "cell_type": "code",
   "execution_count": null,
   "id": "3f5ec943",
   "metadata": {},
   "outputs": [],
   "source": []
  },
  {
   "cell_type": "code",
   "execution_count": null,
   "id": "b704b082",
   "metadata": {},
   "outputs": [],
   "source": []
  },
  {
   "cell_type": "code",
   "execution_count": null,
   "id": "26090d1f",
   "metadata": {},
   "outputs": [],
   "source": []
  },
  {
   "cell_type": "code",
   "execution_count": null,
   "id": "ca59aa66",
   "metadata": {},
   "outputs": [],
   "source": []
  },
  {
   "cell_type": "code",
   "execution_count": null,
   "id": "6f28635d",
   "metadata": {},
   "outputs": [],
   "source": []
  },
  {
   "cell_type": "code",
   "execution_count": null,
   "id": "94187dae",
   "metadata": {},
   "outputs": [],
   "source": []
  },
  {
   "cell_type": "code",
   "execution_count": null,
   "id": "b0d47c08",
   "metadata": {},
   "outputs": [],
   "source": []
  },
  {
   "cell_type": "code",
   "execution_count": null,
   "id": "5b4cf562",
   "metadata": {},
   "outputs": [],
   "source": []
  },
  {
   "cell_type": "code",
   "execution_count": null,
   "id": "1498a18e",
   "metadata": {},
   "outputs": [],
   "source": []
  },
  {
   "cell_type": "code",
   "execution_count": null,
   "id": "e9a47053",
   "metadata": {},
   "outputs": [],
   "source": []
  },
  {
   "cell_type": "code",
   "execution_count": null,
   "id": "8abeaa6d",
   "metadata": {},
   "outputs": [],
   "source": []
  }
 ],
 "metadata": {
  "kernelspec": {
   "display_name": "Julia 1.6.2",
   "language": "julia",
   "name": "julia-1.6"
  },
  "language_info": {
   "file_extension": ".jl",
   "mimetype": "application/julia",
   "name": "julia",
   "version": "1.6.2"
  }
 },
 "nbformat": 4,
 "nbformat_minor": 5
}
